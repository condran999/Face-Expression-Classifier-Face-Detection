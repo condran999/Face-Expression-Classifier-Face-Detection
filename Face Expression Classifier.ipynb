{
 "cells": [
  {
   "cell_type": "markdown",
   "id": "5008a337",
   "metadata": {
    "ExecuteTime": {
     "end_time": "2021-09-25T16:05:05.477628Z",
     "start_time": "2021-09-25T16:05:05.472630Z"
    }
   },
   "source": [
    "# Face Expression classifier"
   ]
  },
  {
   "cell_type": "markdown",
   "id": "477eef78",
   "metadata": {
    "heading_collapsed": true
   },
   "source": [
    "## Creation of Image data generator"
   ]
  },
  {
   "cell_type": "code",
   "execution_count": 1,
   "id": "fc4ee1b3",
   "metadata": {
    "ExecuteTime": {
     "end_time": "2021-10-15T18:30:53.538663Z",
     "start_time": "2021-10-15T18:30:51.927098Z"
    },
    "hidden": true
   },
   "outputs": [
    {
     "data": {
      "text/plain": [
       "(48, 48, 3)"
      ]
     },
     "execution_count": 1,
     "metadata": {},
     "output_type": "execute_result"
    }
   ],
   "source": [
    "import cv2\n",
    "# To check shape of the image\n",
    "a = cv2.imread(\n",
    "    r\"D:\\Condran\\Data Science\\Computer vision\\Face detection project\\fer2013\\train\\Angry\\1.jpg\"\n",
    ")\n",
    "a.shape"
   ]
  },
  {
   "cell_type": "code",
   "execution_count": 2,
   "id": "13d58286",
   "metadata": {
    "ExecuteTime": {
     "end_time": "2021-10-15T18:30:58.581691Z",
     "start_time": "2021-10-15T18:30:55.474458Z"
    },
    "hidden": true
   },
   "outputs": [],
   "source": [
    "import pandas as pd\n",
    "import numpy as np\n",
    "from tensorflow.keras.models import Sequential\n",
    "from tensorflow.keras.layers import Activation,Dropout,Flatten,Dense,Conv2D,MaxPooling2D,ZeroPadding2D,BatchNormalization,ELU\n",
    "from tensorflow.keras.preprocessing.image import ImageDataGenerator\n",
    "from tensorflow.keras import optimizers\n",
    "from tensorflow.keras.models import load_model, save_model\n",
    "from tensorflow.keras.preprocessing.image import img_to_array"
   ]
  },
  {
   "cell_type": "code",
   "execution_count": 3,
   "id": "6e521ab8",
   "metadata": {
    "ExecuteTime": {
     "end_time": "2021-10-15T18:31:16.569070Z",
     "start_time": "2021-10-15T18:31:14.306160Z"
    },
    "hidden": true
   },
   "outputs": [
    {
     "name": "stdout",
     "output_type": "stream",
     "text": [
      "Found 3534 images belonging to 6 classes.\n",
      "Found 28273 images belonging to 6 classes.\n"
     ]
    }
   ],
   "source": [
    "import_shape = (48, 48)\n",
    "img_width = 48\n",
    "img_height = 48\n",
    "epoch = 25\n",
    "batch_size = 16\n",
    "\n",
    "# Train test directory\n",
    "train_data_dir = r\"D:\\Condran\\Data Science\\Computer vision\\Face detection project\\fer2013\\train\"\n",
    "test_data_dir = r\"D:\\Condran\\Data Science\\Computer vision\\Face detection project\\fer2013\\validation\"\n",
    "\n",
    "# Validation set\n",
    "validation_datagen = ImageDataGenerator(rescale=1. / 255)\n",
    "\n",
    "validation_datagen = validation_datagen.flow_from_directory(\n",
    "    test_data_dir,\n",
    "    target_size=import_shape,\n",
    "    color_mode='grayscale',  # since images are in greyscale\n",
    "    class_mode='categorical',\n",
    "    batch_size=batch_size,\n",
    "    shuffle=True,\n",
    "    seed=7)\n",
    "\n",
    "# Training set with augmentation to avoid over fitting\n",
    "train_datagen = ImageDataGenerator(rotation_range=30,\n",
    "                                   width_shift_range=0.4,\n",
    "                                   height_shift_range=0.4,\n",
    "                                   shear_range=0.3,\n",
    "                                   zoom_range=0.3,\n",
    "                                   channel_shift_range=0.0,\n",
    "                                   fill_mode='nearest',\n",
    "                                   horizontal_flip=True,\n",
    "                                   rescale=1. / 255)\n",
    "\n",
    "train_datagen = train_datagen.flow_from_directory(\n",
    "    train_data_dir,\n",
    "    target_size=import_shape,\n",
    "    color_mode='grayscale',  # since images are in greyscale\n",
    "    class_mode='categorical',\n",
    "    batch_size=batch_size,\n",
    "    shuffle=True,\n",
    "    seed=7)"
   ]
  },
  {
   "cell_type": "markdown",
   "id": "c7c9a7b0",
   "metadata": {
    "heading_collapsed": true
   },
   "source": [
    "## little VGG"
   ]
  },
  {
   "cell_type": "code",
   "execution_count": 74,
   "id": "c5a865c8",
   "metadata": {
    "ExecuteTime": {
     "end_time": "2021-09-25T18:03:03.697064Z",
     "start_time": "2021-09-25T18:03:03.361000Z"
    },
    "hidden": true
   },
   "outputs": [
    {
     "name": "stdout",
     "output_type": "stream",
     "text": [
      "Model: \"sequential_2\"\n",
      "_________________________________________________________________\n",
      "Layer (type)                 Output Shape              Param #   \n",
      "=================================================================\n",
      "conv2d_13 (Conv2D)           (None, 48, 48, 32)        320       \n",
      "_________________________________________________________________\n",
      "activation_10 (Activation)   (None, 48, 48, 32)        0         \n",
      "_________________________________________________________________\n",
      "batch_normalization_10 (Batc (None, 48, 48, 32)        128       \n",
      "_________________________________________________________________\n",
      "conv2d_14 (Conv2D)           (None, 48, 48, 32)        9248      \n",
      "_________________________________________________________________\n",
      "activation_11 (Activation)   (None, 48, 48, 32)        0         \n",
      "_________________________________________________________________\n",
      "batch_normalization_11 (Batc (None, 48, 48, 32)        128       \n",
      "_________________________________________________________________\n",
      "max_pooling2d_4 (MaxPooling2 (None, 24, 24, 32)        0         \n",
      "_________________________________________________________________\n",
      "dropout_26 (Dropout)         (None, 24, 24, 32)        0         \n",
      "_________________________________________________________________\n",
      "conv2d_15 (Conv2D)           (None, 24, 24, 64)        18496     \n",
      "_________________________________________________________________\n",
      "activation_12 (Activation)   (None, 24, 24, 64)        0         \n",
      "_________________________________________________________________\n",
      "batch_normalization_12 (Batc (None, 24, 24, 64)        256       \n",
      "_________________________________________________________________\n",
      "conv2d_16 (Conv2D)           (None, 24, 24, 64)        36928     \n",
      "_________________________________________________________________\n",
      "activation_13 (Activation)   (None, 24, 24, 64)        0         \n",
      "_________________________________________________________________\n",
      "batch_normalization_13 (Batc (None, 24, 24, 64)        256       \n",
      "_________________________________________________________________\n",
      "max_pooling2d_5 (MaxPooling2 (None, 12, 12, 64)        0         \n",
      "_________________________________________________________________\n",
      "dropout_27 (Dropout)         (None, 12, 12, 64)        0         \n",
      "_________________________________________________________________\n",
      "conv2d_17 (Conv2D)           (None, 12, 12, 128)       73856     \n",
      "_________________________________________________________________\n",
      "activation_14 (Activation)   (None, 12, 12, 128)       0         \n",
      "_________________________________________________________________\n",
      "batch_normalization_14 (Batc (None, 12, 12, 128)       512       \n",
      "_________________________________________________________________\n",
      "conv2d_18 (Conv2D)           (None, 12, 12, 128)       147584    \n",
      "_________________________________________________________________\n",
      "activation_15 (Activation)   (None, 12, 12, 128)       0         \n",
      "_________________________________________________________________\n",
      "batch_normalization_15 (Batc (None, 12, 12, 128)       512       \n",
      "_________________________________________________________________\n",
      "max_pooling2d_6 (MaxPooling2 (None, 6, 6, 128)         0         \n",
      "_________________________________________________________________\n",
      "dropout_28 (Dropout)         (None, 6, 6, 128)         0         \n",
      "_________________________________________________________________\n",
      "conv2d_19 (Conv2D)           (None, 6, 6, 256)         295168    \n",
      "_________________________________________________________________\n",
      "activation_16 (Activation)   (None, 6, 6, 256)         0         \n",
      "_________________________________________________________________\n",
      "batch_normalization_16 (Batc (None, 6, 6, 256)         1024      \n",
      "_________________________________________________________________\n",
      "conv2d_20 (Conv2D)           (None, 6, 6, 256)         590080    \n",
      "_________________________________________________________________\n",
      "activation_17 (Activation)   (None, 6, 6, 256)         0         \n",
      "_________________________________________________________________\n",
      "batch_normalization_17 (Batc (None, 6, 6, 256)         1024      \n",
      "_________________________________________________________________\n",
      "max_pooling2d_7 (MaxPooling2 (None, 3, 3, 256)         0         \n",
      "_________________________________________________________________\n",
      "dropout_29 (Dropout)         (None, 3, 3, 256)         0         \n",
      "_________________________________________________________________\n",
      "flatten_1 (Flatten)          (None, 2304)              0         \n",
      "_________________________________________________________________\n",
      "dense_32 (Dense)             (None, 64)                147520    \n",
      "_________________________________________________________________\n",
      "activation_18 (Activation)   (None, 64)                0         \n",
      "_________________________________________________________________\n",
      "batch_normalization_18 (Batc (None, 64)                256       \n",
      "_________________________________________________________________\n",
      "dropout_30 (Dropout)         (None, 64)                0         \n",
      "_________________________________________________________________\n",
      "dense_33 (Dense)             (None, 64)                4160      \n",
      "_________________________________________________________________\n",
      "activation_19 (Activation)   (None, 64)                0         \n",
      "_________________________________________________________________\n",
      "batch_normalization_19 (Batc (None, 64)                256       \n",
      "_________________________________________________________________\n",
      "dropout_31 (Dropout)         (None, 64)                0         \n",
      "_________________________________________________________________\n",
      "dense_34 (Dense)             (None, 6)                 390       \n",
      "_________________________________________________________________\n",
      "activation_20 (Activation)   (None, 6)                 0         \n",
      "=================================================================\n",
      "Total params: 1,328,102\n",
      "Trainable params: 1,325,926\n",
      "Non-trainable params: 2,176\n",
      "_________________________________________________________________\n",
      "None\n"
     ]
    }
   ],
   "source": [
    "model = Sequential()\n",
    "\n",
    "model.add(Conv2D(32, (3, 3), padding='same', kernel_initializer=\"he_normal\",\n",
    "                 input_shape=(img_width, img_height, 1)))\n",
    "model.add(Activation('elu'))\n",
    "model.add(BatchNormalization())\n",
    "model.add(Conv2D(32, (3, 3), padding=\"same\", kernel_initializer=\"he_normal\",\n",
    "                 input_shape=(img_width, img_height, 1)))\n",
    "model.add(Activation('elu'))\n",
    "model.add(BatchNormalization())\n",
    "model.add(MaxPooling2D(pool_size=(2, 2)))\n",
    "model.add(Dropout(0.2))\n",
    "\n",
    "# Block #2: second CONV => RELU => CONV => RELU => POOL\n",
    "# layer set\n",
    "model.add(Conv2D(64, (3, 3), padding=\"same\", kernel_initializer=\"he_normal\"))\n",
    "model.add(Activation('elu'))\n",
    "model.add(BatchNormalization())\n",
    "model.add(Conv2D(64, (3, 3), padding=\"same\", kernel_initializer=\"he_normal\"))\n",
    "model.add(Activation('elu'))\n",
    "model.add(BatchNormalization())\n",
    "model.add(MaxPooling2D(pool_size=(2, 2)))\n",
    "model.add(Dropout(0.2))\n",
    "\n",
    "# Block #3: third CONV => RELU => CONV => RELU => POOL\n",
    "# layer set\n",
    "model.add(Conv2D(128, (3, 3), padding=\"same\", kernel_initializer=\"he_normal\"))\n",
    "model.add(Activation('elu'))\n",
    "model.add(BatchNormalization())\n",
    "model.add(Conv2D(128, (3, 3), padding=\"same\", kernel_initializer=\"he_normal\"))\n",
    "model.add(Activation('elu'))\n",
    "model.add(BatchNormalization())\n",
    "model.add(MaxPooling2D(pool_size=(2, 2)))\n",
    "model.add(Dropout(0.2))\n",
    "\n",
    "# Block #4: third CONV => RELU => CONV => RELU => POOL\n",
    "# layer set\n",
    "model.add(Conv2D(256, (3, 3), padding=\"same\", kernel_initializer=\"he_normal\"))\n",
    "model.add(Activation('elu'))\n",
    "model.add(BatchNormalization())\n",
    "model.add(Conv2D(256, (3, 3), padding=\"same\", kernel_initializer=\"he_normal\"))\n",
    "model.add(Activation('elu'))\n",
    "model.add(BatchNormalization())\n",
    "model.add(MaxPooling2D(pool_size=(2, 2)))\n",
    "model.add(Dropout(0.2))\n",
    "\n",
    "# Block #5: first set of FC => RELU layers\n",
    "model.add(Flatten())\n",
    "model.add(Dense(64, kernel_initializer=\"he_normal\"))\n",
    "model.add(Activation('elu'))\n",
    "model.add(BatchNormalization())\n",
    "model.add(Dropout(0.5))\n",
    "\n",
    "# Block #6: second set of FC => RELU layers\n",
    "model.add(Dense(64, kernel_initializer=\"he_normal\"))\n",
    "model.add(Activation('elu'))\n",
    "model.add(BatchNormalization())\n",
    "model.add(Dropout(0.5))\n",
    "\n",
    "# Block #7: softmax classifier\n",
    "model.add(Dense(number_classes, kernel_initializer=\"he_normal\"))\n",
    "model.add(Activation(\"softmax\"))\n",
    "\n",
    "print(model.summary())"
   ]
  },
  {
   "cell_type": "code",
   "execution_count": 78,
   "id": "b788729f",
   "metadata": {
    "ExecuteTime": {
     "end_time": "2021-09-25T18:05:26.685764Z",
     "start_time": "2021-09-25T18:05:26.665776Z"
    },
    "hidden": true
   },
   "outputs": [],
   "source": [
    "# Setting checkpointing and earlystopping\n",
    "from tensorflow.keras.optimizers import RMSprop\n",
    "from tensorflow.keras.callbacks import ModelCheckpoint, EarlyStopping, ReduceLROnPlateau\n",
    "\n",
    "checkpoint = ModelCheckpoint(\n",
    "    \"Face_emotion.h5\",\n",
    "    monitor='val_loss',\n",
    "    verbose=1,\n",
    "    save_best_only=True,\n",
    "    save_weights_only=True)\n",
    "\n",
    "earlystopping = EarlyStopping(\n",
    "    monitor='val_loss',\n",
    "    min_delta=0,\n",
    "    patience=3,\n",
    "    verbose=1,\n",
    "    restore_best_weights=True)\n",
    "\n",
    "reduce_lr = ReduceLROnPlateau(\n",
    "    monitor='val_loss', factor=0.2, patience=3, verbose=1, min_delta=0.0001)\n",
    "\n",
    "# We put our call backs into a callback list\n",
    "callbacks = [earlystopping, checkpoint, reduce_lr]\n",
    "\n",
    "model.compile(\n",
    "    loss='categorical_crossentropy',\n",
    "    optimizer=Adam(learning_rate=0.001),\n",
    "    metrics=['accuracy'])"
   ]
  },
  {
   "cell_type": "code",
   "execution_count": 80,
   "id": "81e08f36",
   "metadata": {
    "ExecuteTime": {
     "end_time": "2021-09-25T20:42:53.363154Z",
     "start_time": "2021-09-25T18:30:08.293972Z"
    },
    "hidden": true
   },
   "outputs": [
    {
     "name": "stdout",
     "output_type": "stream",
     "text": [
      "Epoch 1/40\n",
      "1767/1767 [==============================] - 540s 306ms/step - loss: 1.7155 - accuracy: 0.2661 - val_loss: 2.1012 - val_accuracy: 0.2071\n",
      "\n",
      "Epoch 00001: val_loss did not improve from 1.71792\n",
      "Epoch 2/40\n",
      "1767/1767 [==============================] - 559s 317ms/step - loss: 1.6766 - accuracy: 0.2917 - val_loss: 1.7606 - val_accuracy: 0.3261\n",
      "\n",
      "Epoch 00002: val_loss did not improve from 1.71792\n",
      "Epoch 3/40\n",
      "1767/1767 [==============================] - 534s 302ms/step - loss: 1.6116 - accuracy: 0.3356 - val_loss: 1.5915 - val_accuracy: 0.4082\n",
      "\n",
      "Epoch 00003: val_loss improved from 1.71792 to 1.59145, saving model to Face_emotion.h5\n",
      "Epoch 4/40\n",
      "1767/1767 [==============================] - 533s 302ms/step - loss: 1.5367 - accuracy: 0.3799 - val_loss: 1.4847 - val_accuracy: 0.4207\n",
      "\n",
      "Epoch 00004: val_loss improved from 1.59145 to 1.48474, saving model to Face_emotion.h5\n",
      "Epoch 5/40\n",
      "1767/1767 [==============================] - 527s 298ms/step - loss: 1.4808 - accuracy: 0.4093 - val_loss: 1.4933 - val_accuracy: 0.4463\n",
      "\n",
      "Epoch 00005: val_loss did not improve from 1.48474\n",
      "Epoch 6/40\n",
      "1767/1767 [==============================] - 528s 299ms/step - loss: 1.4415 - accuracy: 0.4282 - val_loss: 1.5547 - val_accuracy: 0.4597\n",
      "\n",
      "Epoch 00006: val_loss did not improve from 1.48474\n",
      "Epoch 7/40\n",
      "1767/1767 [==============================] - 526s 298ms/step - loss: 1.4102 - accuracy: 0.4460 - val_loss: 1.4590 - val_accuracy: 0.4798\n",
      "\n",
      "Epoch 00007: val_loss improved from 1.48474 to 1.45903, saving model to Face_emotion.h5\n",
      "Epoch 8/40\n",
      "1767/1767 [==============================] - 522s 295ms/step - loss: 1.3905 - accuracy: 0.4514 - val_loss: 1.4384 - val_accuracy: 0.4778\n",
      "\n",
      "Epoch 00008: val_loss improved from 1.45903 to 1.43845, saving model to Face_emotion.h5\n",
      "Epoch 9/40\n",
      "1767/1767 [==============================] - 533s 302ms/step - loss: 1.3723 - accuracy: 0.4588 - val_loss: 1.4646 - val_accuracy: 0.4793\n",
      "\n",
      "Epoch 00009: val_loss did not improve from 1.43845\n",
      "Epoch 10/40\n",
      "1767/1767 [==============================] - 538s 304ms/step - loss: 1.3607 - accuracy: 0.4663 - val_loss: 1.5189 - val_accuracy: 0.4776\n",
      "\n",
      "Epoch 00010: val_loss did not improve from 1.43845\n",
      "Epoch 11/40\n",
      "1767/1767 [==============================] - 529s 299ms/step - loss: 1.3452 - accuracy: 0.4708 - val_loss: 1.4336 - val_accuracy: 0.4895\n",
      "\n",
      "Epoch 00011: val_loss improved from 1.43845 to 1.43363, saving model to Face_emotion.h5\n",
      "Epoch 12/40\n",
      "1767/1767 [==============================] - 524s 296ms/step - loss: 1.3317 - accuracy: 0.4784 - val_loss: 1.4146 - val_accuracy: 0.4812\n",
      "\n",
      "Epoch 00012: val_loss improved from 1.43363 to 1.41461, saving model to Face_emotion.h5\n",
      "Epoch 13/40\n",
      "1767/1767 [==============================] - 524s 297ms/step - loss: 1.3206 - accuracy: 0.4857 - val_loss: 1.4311 - val_accuracy: 0.4906\n",
      "\n",
      "Epoch 00013: val_loss did not improve from 1.41461\n",
      "Epoch 14/40\n",
      "1767/1767 [==============================] - 523s 296ms/step - loss: 1.3118 - accuracy: 0.4889 - val_loss: 1.4497 - val_accuracy: 0.4957\n",
      "\n",
      "Epoch 00014: val_loss did not improve from 1.41461\n",
      "Epoch 15/40\n",
      "1767/1767 [==============================] - 523s 296ms/step - loss: 1.2996 - accuracy: 0.4945 - val_loss: 1.4526 - val_accuracy: 0.5085\n",
      "Restoring model weights from the end of the best epoch.\n",
      "\n",
      "Epoch 00015: val_loss did not improve from 1.41461\n",
      "\n",
      "Epoch 00015: ReduceLROnPlateau reducing learning rate to 0.00020000000949949026.\n",
      "Epoch 00015: early stopping\n"
     ]
    }
   ],
   "source": [
    "nb_train_samples = 28273\n",
    "nb_validation_samples = 3534\n",
    "\n",
    "history = model.fit(train_datagen,\n",
    "                    batch_size=batch_size,\n",
    "                    epochs=40,\n",
    "                    verbose=1,\n",
    "                    callbacks=callbacks,\n",
    "                    validation_data=validation_datagen,\n",
    "                    steps_per_epoch=nb_train_samples // batch_size,\n",
    "                    validation_steps=nb_validation_samples // batch_size)"
   ]
  },
  {
   "cell_type": "code",
   "execution_count": 82,
   "id": "830af27d",
   "metadata": {
    "ExecuteTime": {
     "end_time": "2021-09-26T05:14:59.958947Z",
     "start_time": "2021-09-26T05:14:48.548946Z"
    },
    "hidden": true
   },
   "outputs": [
    {
     "name": "stdout",
     "output_type": "stream",
     "text": [
      "INFO:tensorflow:Assets written to: Face_emotion_49%\\assets\n"
     ]
    }
   ],
   "source": [
    "model.save(\"Face_emotion_49%\")"
   ]
  },
  {
   "cell_type": "code",
   "execution_count": 83,
   "id": "91c002a4",
   "metadata": {
    "ExecuteTime": {
     "end_time": "2021-09-26T05:16:50.461953Z",
     "start_time": "2021-09-26T05:16:26.304238Z"
    },
    "hidden": true
   },
   "outputs": [
    {
     "name": "stdout",
     "output_type": "stream",
     "text": [
      "220/220 [==============================] - 24s 109ms/step - loss: 1.4143 - accuracy: 0.4810\n"
     ]
    },
    {
     "data": {
      "text/plain": [
       "[1.4143024682998657, 0.48096591234207153]"
      ]
     },
     "execution_count": 83,
     "metadata": {},
     "output_type": "execute_result"
    }
   ],
   "source": [
    "model.evaluate(validation_datagen,\n",
    "               batch_size=16,\n",
    "               verbose=1,\n",
    "               steps=nb_validation_samples // batch_size)"
   ]
  },
  {
   "cell_type": "markdown",
   "id": "145aa31d",
   "metadata": {
    "heading_collapsed": true
   },
   "source": [
    "## Visualization"
   ]
  },
  {
   "cell_type": "code",
   "execution_count": 89,
   "id": "2389c2d9",
   "metadata": {
    "ExecuteTime": {
     "end_time": "2021-09-26T05:48:11.695497Z",
     "start_time": "2021-09-26T05:48:11.260563Z"
    },
    "hidden": true
   },
   "outputs": [
    {
     "data": {
      "image/png": "[encoded data removed]",
      "text/plain": [
       "<Figure size 432x288 with 1 Axes>"
      ]
     },
     "metadata": {
      "needs_background": "light"
     },
     "output_type": "display_data"
    },
    {
     "data": {
      "image/png": "[encoded data removed]",
      "text/plain": [
       "<Figure size 432x288 with 1 Axes>"
      ]
     },
     "metadata": {
      "needs_background": "light"
     },
     "output_type": "display_data"
    }
   ],
   "source": [
    "import matplotlib.pylab as plt\n",
    "\n",
    "plt.plot(history.history['accuracy'])\n",
    "plt.plot(history.history['val_accuracy'])\n",
    "plt.title(\"Accuracy\")\n",
    "plt.ylabel(\"Accuracy\")\n",
    "plt.xlabel('Epoch')\n",
    "plt.grid()\n",
    "plt.legend([\"Train\", \"Test\"])\n",
    "plt.show()\n",
    "\n",
    "plt.plot(history.history['loss'])\n",
    "plt.plot(history.history['val_loss'])\n",
    "plt.title(\"Loss\")\n",
    "plt.ylabel(\"Loss\")\n",
    "plt.xlabel('Epoch')\n",
    "plt.grid()\n",
    "plt.legend([\"Train\", \"Test\"])\n",
    "plt.show()"
   ]
  },
  {
   "cell_type": "markdown",
   "id": "ffa22d91",
   "metadata": {
    "heading_collapsed": true
   },
   "source": [
    "## Confusion Matrix & Classification Report\n",
    "* For better understanding of predicted results"
   ]
  },
  {
   "cell_type": "code",
   "execution_count": 7,
   "id": "dbb23f43",
   "metadata": {
    "ExecuteTime": {
     "end_time": "2021-09-26T10:22:21.785277Z",
     "start_time": "2021-09-26T10:22:20.375528Z"
    },
    "hidden": true
   },
   "outputs": [],
   "source": [
    "from sklearn.metrics import classification_report, confusion_matrix\n",
    "import seaborn as sns\n",
    "import matplotlib.pylab as plt"
   ]
  },
  {
   "cell_type": "code",
   "execution_count": 8,
   "id": "f402d0c1",
   "metadata": {
    "ExecuteTime": {
     "end_time": "2021-09-26T10:22:22.084598Z",
     "start_time": "2021-09-26T10:22:21.830765Z"
    },
    "hidden": true
   },
   "outputs": [
    {
     "name": "stdout",
     "output_type": "stream",
     "text": [
      "Found 3534 images belonging to 6 classes.\n"
     ]
    }
   ],
   "source": [
    "# Note: turn off the shuffle or the the values wont be in the sequencefor predeicting purpose\n",
    "validation_datagen = ImageDataGenerator(rescale=1. / 255)\n",
    "\n",
    "validation_datagen = validation_datagen.flow_from_directory(\n",
    "    test_data_dir,\n",
    "    target_size=import_shape,\n",
    "    color_mode='grayscale',  # since images are in greyscale\n",
    "    class_mode='categorical',\n",
    "    batch_size=batch_size,\n",
    "    shuffle=False,\n",
    "    seed=7)"
   ]
  },
  {
   "cell_type": "code",
   "execution_count": 13,
   "id": "c265f264",
   "metadata": {
    "ExecuteTime": {
     "end_time": "2021-09-26T10:23:15.921009Z",
     "start_time": "2021-09-26T10:22:55.523018Z"
    },
    "hidden": true
   },
   "outputs": [],
   "source": [
    "classifier = load_model(\"Face_emotion_49%/\")\n",
    "# this will give us the predicted probabilities for teh 6 classes\n",
    "pred = classifier.predict(validation_datagen)\n",
    "\n",
    "# argmax will pick the next number for the highest probability\n",
    "clf = np.argmax(pred, axis=1)\n",
    "\n",
    "# y_test classes\n",
    "y_test = validation_datagen.classes"
   ]
  },
  {
   "cell_type": "code",
   "execution_count": 26,
   "id": "df6893ac",
   "metadata": {
    "ExecuteTime": {
     "end_time": "2021-09-26T14:27:39.430514Z",
     "start_time": "2021-09-26T14:27:39.424519Z"
    },
    "hidden": true
   },
   "outputs": [],
   "source": [
    "# Get the clases labels\n",
    "class_labels = validation_datagen.class_indices\n",
    "\n",
    "# Convert to dictionary interchnage v for k which will be beneficla for prediction\n",
    "class_labels = {v: k for k, v in class_labels.items()}\n",
    "classes = class_labels.values()"
   ]
  },
  {
   "cell_type": "code",
   "execution_count": 15,
   "id": "42423d1f",
   "metadata": {
    "ExecuteTime": {
     "end_time": "2021-09-26T10:23:42.135100Z",
     "start_time": "2021-09-26T10:23:42.119476Z"
    },
    "hidden": true,
    "scrolled": true
   },
   "outputs": [
    {
     "name": "stdout",
     "output_type": "stream",
     "text": [
      "              precision    recall  f1-score   support\n",
      "\n",
      "       Angry       0.45      0.36      0.40       491\n",
      "        Fear       0.30      0.09      0.14       528\n",
      "       Happy       0.74      0.85      0.79       879\n",
      "     Neutral       0.23      0.31      0.26       626\n",
      "         Sad       0.39      0.36      0.37       594\n",
      "    Surprise       0.55      0.78      0.64       416\n",
      "\n",
      "    accuracy                           0.48      3534\n",
      "   macro avg       0.44      0.46      0.43      3534\n",
      "weighted avg       0.46      0.48      0.46      3534\n",
      "\n"
     ]
    }
   ],
   "source": [
    "# Classification report\n",
    "print(classification_report(y_test, clf, target_names=classes))"
   ]
  },
  {
   "cell_type": "code",
   "execution_count": 16,
   "id": "7f5efaf6",
   "metadata": {
    "ExecuteTime": {
     "end_time": "2021-09-26T10:23:43.470749Z",
     "start_time": "2021-09-26T10:23:43.450749Z"
    },
    "hidden": true
   },
   "outputs": [
    {
     "data": {
      "text/plain": [
       "array([0, 1, 2, 3, 4, 5])"
      ]
     },
     "execution_count": 16,
     "metadata": {},
     "output_type": "execute_result"
    }
   ],
   "source": [
    "tick_marks = np.arange(len(classes))\n",
    "tick_marks"
   ]
  },
  {
   "cell_type": "code",
   "execution_count": 17,
   "id": "4b30b26d",
   "metadata": {
    "ExecuteTime": {
     "end_time": "2021-09-26T10:23:44.908981Z",
     "start_time": "2021-09-26T10:23:44.390060Z"
    },
    "hidden": true
   },
   "outputs": [
    {
     "name": "stdout",
     "output_type": "stream",
     "text": [
      "{'Angry': 0, 'Fear': 1, 'Happy': 2, 'Neutral': 3, 'Sad': 4, 'Surprise': 5}\n"
     ]
    },
    {
     "data": {
      "image/png": "[encoded data removed]",
      "text/plain": [
       "<Figure size 720x576 with 2 Axes>"
      ]
     },
     "metadata": {
      "needs_background": "light"
     },
     "output_type": "display_data"
    }
   ],
   "source": [
    "# Confusion Matrix\n",
    "plt.figure(figsize=(10, 8))\n",
    "sns.heatmap(confusion_matrix(y_test, clf), annot=True, fmt='d', cmap='Oranges')\n",
    "plt.xticks(tick_marks, classes, rotation=90)\n",
    "plt.yticks(tick_marks, classes)\n",
    "print(class_labels)"
   ]
  },
  {
   "cell_type": "markdown",
   "id": "2fad6fbd",
   "metadata": {
    "heading_collapsed": true
   },
   "source": [
    "## Prediction"
   ]
  },
  {
   "cell_type": "code",
   "execution_count": 19,
   "id": "e51253d6",
   "metadata": {
    "ExecuteTime": {
     "end_time": "2021-09-26T10:24:11.956337Z",
     "start_time": "2021-09-26T10:24:04.207996Z"
    },
    "hidden": true
   },
   "outputs": [],
   "source": [
    "# loading the model\n",
    "classifier = load_model(\"Face_emotion_49%/\")"
   ]
  },
  {
   "cell_type": "code",
   "execution_count": 21,
   "id": "6e28f77f",
   "metadata": {
    "ExecuteTime": {
     "end_time": "2021-09-26T10:24:20.506193Z",
     "start_time": "2021-09-26T10:24:20.480205Z"
    },
    "hidden": true
   },
   "outputs": [],
   "source": [
    "def draw_test(name, res, img_path, true_label):\n",
    "    res = int(np.round(res))\n",
    "    if res == 0:\n",
    "        pred = \"Angry\"\n",
    "    if res == 1:\n",
    "        pred = \"Fear\"\n",
    "    if res == 2:\n",
    "        pred = \"Happy\"\n",
    "    if res == 3:\n",
    "        pred = \"Neutral\"\n",
    "    if res == 4:\n",
    "        pred = \"Sad\"\n",
    "    if res == 5:\n",
    "        pred = 'Surprise'\n",
    "\n",
    "    # Convert the image to numbers\n",
    "    input_im = cv2.imread(img_path)\n",
    "\n",
    "    # Resize the iamge as per model requirement\n",
    "    imageL = cv2.resize(input_im, (180, 180))\n",
    "    expanded_image = cv2.copyMakeBorder(\n",
    "        input_im, 0, 0, 0, input_im.shape[0] * 2, cv2.BORDER_CONSTANT, value=0)\n",
    "\n",
    "    # Text for prediction\n",
    "    cv2.putText(expanded_image, str(pred), (400, 180),\n",
    "                cv2.FONT_HERSHEY_COMPLEX_SMALL, 2, (0, 255, 0), 2)\n",
    "\n",
    "    cv2.imshow(name, expanded_image)\n",
    "\n",
    "\n",
    "# Custom function to convert the raw image as per model requirment\n",
    "def classify(img_path):\n",
    "    # Convert the image to numbers\n",
    "    input_im = cv2.imread(img_path, 0)\n",
    "\n",
    "    # Resize the iamge as per model requirement\n",
    "    imageL = cv2.resize(input_im, (48, 48))\n",
    "\n",
    "    # Convert to fgloat and normalize the image\n",
    "    input_im = imageL.astype(\"float\") / 255.0\n",
    "    # Convert to array format\n",
    "    input_im = img_to_array(input_im)\n",
    "    # Reshape the image as model.predict function (1,48,48,3)\n",
    "    input_im = input_im.reshape(1, 48, 48, 1)\n",
    "    # Get Prediction for probabilities\n",
    "    res = classifier.predict_classes(x=input_im)\n",
    "\n",
    "    # Using or custom fucntion draw test to display the image using OpenCV\n",
    "    # Note the original image path is used here in the fucntion\n",
    "    draw_test('Prediction', res, img_path, y_test)\n",
    "    cv2.waitKey(0)\n",
    "\n",
    "\n",
    "cv2.destroyAllWindows()"
   ]
  },
  {
   "cell_type": "code",
   "execution_count": 22,
   "id": "6af53b29",
   "metadata": {
    "ExecuteTime": {
     "end_time": "2021-09-26T10:24:50.158205Z",
     "start_time": "2021-09-26T10:24:21.928388Z"
    },
    "hidden": true
   },
   "outputs": [
    {
     "name": "stderr",
     "output_type": "stream",
     "text": [
      "C:\\Users\\Kevin\\anaconda3\\New folder\\lib\\site-packages\\tensorflow\\python\\keras\\engine\\sequential.py:455: UserWarning: `model.predict_classes()` is deprecated and will be removed after 2021-01-01. Please use instead:* `np.argmax(model.predict(x), axis=-1)`,   if your model does multi-class classification   (e.g. if it uses a `softmax` last-layer activation).* `(model.predict(x) > 0.5).astype(\"int32\")`,   if your model does binary classification   (e.g. if it uses a `sigmoid` last-layer activation).\n",
      "  warnings.warn('`model.predict_classes()` is deprecated and '\n"
     ]
    }
   ],
   "source": [
    "# Put in the path\n",
    "img_path = \"D:/Condran/IMG-20151214-WA0001.jpg\"\n",
    "\n",
    "# Use the classify function\n",
    "classify(img_path)\n",
    "cv2.destroyAllWindows()"
   ]
  },
  {
   "cell_type": "markdown",
   "id": "6114d834",
   "metadata": {
    "heading_collapsed": true
   },
   "source": [
    "## Face Detection"
   ]
  },
  {
   "cell_type": "code",
   "execution_count": 43,
   "id": "d48e9058",
   "metadata": {
    "ExecuteTime": {
     "end_time": "2021-09-26T15:37:50.807050Z",
     "start_time": "2021-09-26T15:36:18.689868Z"
    },
    "hidden": true
   },
   "outputs": [
    {
     "name": "stderr",
     "output_type": "stream",
     "text": [
      "<>:14: SyntaxWarning: \"is\" with a literal. Did you mean \"==\"?\n",
      "<>:14: SyntaxWarning: \"is\" with a literal. Did you mean \"==\"?\n",
      "<ipython-input-43-e9e48efe3d14>:14: SyntaxWarning: \"is\" with a literal. Did you mean \"==\"?\n",
      "  if faces is ():\n"
     ]
    }
   ],
   "source": [
    "# Import Haarcascade Frontal face Detector\n",
    "face_classifier = cv2.CascadeClassifier(\n",
    "    'D:\\Condran\\Data Science\\Computer vision\\MasterOpenCV.tar\\Master OpenCV\\Haarcascades/haarcascade_frontalface_default.xml')\n",
    "\n",
    "\n",
    "def face_detector(img):\n",
    "    # Covert image to gray scale\n",
    "    gray = cv2.cvtColor(img.copy(), cv2.COLOR_BGR2GRAY)\n",
    "    # Our classifier returns the ROI of the detected face as a tuple\n",
    "    # It stores the top left coordinate and the bottom right coordiantes\n",
    "    # min neigbours will tell if there are mutiple face dected in area it will show as one face\n",
    "    # eg if the number is set to 5 it will show 5 dected face as 1\n",
    "    # ScaleFactor- Smaller values, like 1.05 will take longer to compute, but will increase the rate of detection.\n",
    "    faces = face_classifier.detectMultiScale(\n",
    "        gray, scaleFactor=1.3, minNeighbors=5)\n",
    "    if faces is ():\n",
    "        return (0, 0, 0, 0), np.zeros((48, 48), np.uint8), img\n",
    "\n",
    "    allfaces = []\n",
    "    rects = []\n",
    "    for (x, y, w, h) in faces:\n",
    "        # creating a rectangle with border only\n",
    "        cv2.rectangle(img, (x, y), (x+w, y+h), (255, 0, 0), 2)\n",
    "        # cropping the image will be used for our predictor classifer\n",
    "        roi_gray = gray[y:y+h, x:x+w]\n",
    "        roi_gray = cv2.resize(roi_gray, (48, 48), interpolation=cv2.INTER_AREA)\n",
    "        # to detect mutiple face if any\n",
    "        allfaces.append(roi_gray)\n",
    "        # saving the corodinates\n",
    "        rects.append((x, w, y, h))\n",
    "    return rects, allfaces, img\n",
    "\n",
    "\n",
    "# Image link to be predicted\n",
    "img = cv2.imread(\"D:\\Condran\\IMG-20151214-WA0001.jpg\")\n",
    "rects, faces, image = face_detector(img)\n",
    "\n",
    "\n",
    "i = 0\n",
    "for face in faces:\n",
    "    # normalize the images\n",
    "    roi = face.astype(\"float\") / 255.0\n",
    "    # convert to array\n",
    "    roi = img_to_array(roi)\n",
    "    # will chnage the shape to (1, 368, 304, 3) -. whichy is a requirement for model.predict\n",
    "    roi = np.expand_dims(roi, axis=0)\n",
    "\n",
    "    # make a prediction on the ROI, then lookup the class\n",
    "    preds = classifier.predict(roi)[0]\n",
    "    # class label is the dictionary with labels and numbers\n",
    "    label = class_labels[preds.argmax()]\n",
    "\n",
    "    # Overlay our detected emotion on our pic\n",
    "    # label_position = (rects[i][0] + int((rects[i][1]/2)), abs(rects[i][2] - 10))\n",
    "    # i =+ 1\n",
    "    cv2.putText(image, label, label_position,\n",
    "                cv2.FONT_HERSHEY_SIMPLEX, 1, (0, 255, 0), 2)\n",
    "\n",
    "cv2.imshow(\"Emotion Detector\", image)\n",
    "cv2.waitKey(0)\n",
    "\n",
    "cv2.destroyAllWindows()"
   ]
  },
  {
   "cell_type": "code",
   "execution_count": null,
   "id": "d41e9cd4",
   "metadata": {
    "hidden": true
   },
   "outputs": [],
   "source": []
  }
 ],
 "metadata": {
  "kernelspec": {
   "display_name": "Python 3",
   "language": "python",
   "name": "python3"
  },
  "language_info": {
   "codemirror_mode": {
    "name": "ipython",
    "version": 3
   },
   "file_extension": ".py",
   "mimetype": "text/x-python",
   "name": "python",
   "nbconvert_exporter": "python",
   "pygments_lexer": "ipython3",
   "version": "3.8.8"
  },
  "toc": {
   "base_numbering": 1,
   "nav_menu": {},
   "number_sections": true,
   "sideBar": true,
   "skip_h1_title": false,
   "title_cell": "Table of Contents",
   "title_sidebar": "Contents",
   "toc_cell": false,
   "toc_position": {},
   "toc_section_display": true,
   "toc_window_display": false
  },
  "varInspector": {
   "cols": {
    "lenName": 16,
    "lenType": 16,
    "lenVar": 40
   },
   "kernels_config": {
    "python": {
     "delete_cmd_postfix": "",
     "delete_cmd_prefix": "del ",
     "library": "var_list.py",
     "varRefreshCmd": "print(var_dic_list())"
    },
    "r": {
     "delete_cmd_postfix": ") ",
     "delete_cmd_prefix": "rm(",
     "library": "var_list.r",
     "varRefreshCmd": "cat(var_dic_list()) "
    }
   },
   "types_to_exclude": [
    "module",
    "function",
    "builtin_function_or_method",
    "instance",
    "_Feature"
   ],
   "window_display": false
  }
 },
 "nbformat": 4,
 "nbformat_minor": 5
}
